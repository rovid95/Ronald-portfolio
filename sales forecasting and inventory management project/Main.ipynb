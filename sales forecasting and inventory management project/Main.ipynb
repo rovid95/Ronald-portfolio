{
 "cells": [
  {
   "cell_type": "markdown",
   "id": "d151e175-a80c-489a-b293-95a89e84ba90",
   "metadata": {},
   "source": [
    "# Leveraging Machine Learning for Sales Forecasting and Inventory Optimization"
   ]
  },
  {
   "cell_type": "markdown",
   "id": "df49b899-57cc-486f-a199-4ab540e92ef5",
   "metadata": {},
   "source": [
    "## 📚 Table of Contents\n",
    "- [Introduction](#Introduction)\n",
    "- [Data Preparation](#Data-Preparation)\n",
    "- [EDA](#EDA)\n",
    "- [Feature Engineering](#Feature-Engineering)\n",
    "- [Model Training Testing and Tuning](#Model-Training-Testing-and-Tuning)\n",
    "- [Inventory Optimization Strategy](#Inventory-Optimization-Strategy)\n",
    "- [Conclusion](#Conclusion)"
   ]
  },
  {
   "cell_type": "markdown",
   "id": "f95592fa-c315-434b-87e6-25d8ae616910",
   "metadata": {
    "tags": []
   },
   "source": [
    "## Introduction\n",
    "\n",
    "In the competitive retail landscape, accurately predicting future sales and efficiently managing inventory are vital for success. This project showcases an end-to-end solution for forecasting sales using machine learning and Python, and demonstrates the development of an inventory management strategy based on these forecasts. The objective is to minimize stockouts and overstock situations, leading to improved customer satisfaction and reduced operational costs."
   ]
  },
  {
   "cell_type": "markdown",
   "id": "e228990c-094e-4dfd-981f-de4758732ab4",
   "metadata": {
    "tags": []
   },
   "source": [
    "## Data preparation\n",
    "\n",
    "The sales data, consisting of two sheets from an Excel file, includes Store8Number, Itemnumber, sales quantity, and other relevant features. We concatenate the two sheets into a single DataFrame, preprocess the data by converting relevant columns to appropriate data types, and handle missing values."
   ]
  },
  {
   "cell_type": "code",
   "execution_count": 1,
   "id": "dabbf626-20e6-46bc-bb3c-6ef747417c17",
   "metadata": {},
   "outputs": [],
   "source": [
    "import pandas as pd\n",
    "import numpy as np\n",
    "import re\n",
    "import pickle\n",
    "import plotly.graph_objs as go\n",
    "import plotly.offline as pyo\n",
    "from sklearn.model_selection import TimeSeriesSplit, GridSearchCV\n",
    "from sklearn.metrics import mean_squared_error, mean_absolute_error, make_scorer\n",
    "from sklearn.ensemble import RandomForestRegressor\n",
    "from sklearn.linear_model import LinearRegression\n",
    "from sklearn.tree import DecisionTreeRegressor\n",
    "import lightgbm as lgb\n",
    "import math\n",
    "from scipy.stats import norm"
   ]
  },
  {
   "cell_type": "code",
   "execution_count": 2,
   "id": "9c43512c-5a10-4c5b-bd11-dccbc305d644",
   "metadata": {},
   "outputs": [],
   "source": [
    "# Load the data (replace with the actual file path or URL)\n",
    "data = pd.read_excel(\"./data/reach_data.xlsx\", sheet_name='sale', dtype={\n",
    "    'Date': str,\n",
    "    'Store8Number': str,\n",
    "    'Item Name': str,\n",
    "    'Itemnumber': str,\n",
    "    'Salesamount': str,\n",
    "    'Salequantity': str,\n",
    "    'Sales weight': str,\n",
    "    'Unit of sale': str,\n",
    "    'Total promotion based date store and items': str,\n",
    "    'Promotionflag': str\n",
    "})\n",
    "\n",
    "data = data.rename(columns = lambda x:re.sub('[^A-Za-z0-9_]+', '', x))"
   ]
  },
  {
   "cell_type": "code",
   "execution_count": 6,
   "id": "94d51b16-a89c-45d1-aabe-dd831e20b867",
   "metadata": {},
   "outputs": [
    {
     "name": "stdout",
     "output_type": "stream",
     "text": [
      "Date\n",
      "StoreNumber\n",
      "Itemnumber\n",
      "Itemname\n",
      "Salesamount\n"
     ]
    },
    {
     "name": "stderr",
     "output_type": "stream",
     "text": [
      "C:\\Users\\ronal\\AppData\\Local\\Temp\\ipykernel_22456\\2429163087.py:20: FutureWarning:\n",
      "\n",
      "DataFrame.mean and DataFrame.median with numeric_only=None will include datetime64 and datetime64tz columns in a future version.\n",
      "\n",
      "C:\\Users\\ronal\\AppData\\Local\\Temp\\ipykernel_22456\\2429163087.py:20: FutureWarning:\n",
      "\n",
      "The default value of numeric_only in DataFrame.median is deprecated. In a future version, it will default to False. In addition, specifying 'numeric_only=None' is deprecated. Select only valid columns or specify the value of numeric_only to silence this warning.\n",
      "\n"
     ]
    },
    {
     "name": "stdout",
     "output_type": "stream",
     "text": [
      "Salequantity\n",
      "Unitofsale\n",
      "Totalpromotionbaseddatestoreanditems\n",
      "Promotionflag\n"
     ]
    }
   ],
   "source": [
    "# Step 2: Data preprocessing\n",
    "# Convert date column to datetime format\n",
    "data['Date'] = pd.to_datetime(data['Date'], format='%Y.%m.%d')\n",
    "\n",
    "# Convert numeric columns to appropriate data types\n",
    "data['Salesamount'] = pd.to_numeric(data['Salesamount'], errors='coerce')\n",
    "data['Salequantity'] = pd.to_numeric(data['Salequantity'], errors='coerce')\n",
    "#data['Sale weight'] = pd.to_numeric(data['Sale weight'], errors='coerce')\n",
    "data['Totalpromotionbaseddatestoreanditems'] = pd.to_numeric(data['Totalpromotionbaseddatestoreanditems'], errors='coerce')\n",
    "data['Promotionflag'] = pd.to_numeric(data['Promotionflag'], errors='coerce')\n",
    "\n",
    "# Handle missing values (using interpolation, mean, median, or dropping rows, depending on the context)\n",
    "data.interpolate(method='pad',inplace=True)  # Interpolate missing values\n",
    "data.dropna(inplace=True)  # Drop remaining rows with missing values\n",
    "\n",
    "# Dropping negative rows \n",
    "data = data.drop(index=data[data['Salequantity']<0].index).reset_index(drop=True)\n",
    "\n",
    "# Check for missing values and fill them with the median of the column\n",
    "data.fillna(data.median(), inplace=True)\n",
    "\n",
    "# Check for infinite or NaN values and replace them with the mean of the column\n",
    "for col in data.columns:8\n",
    "    if data[col].dtype != 'object' and data[col].dtype != '<M8[ns]':\n",
    "        col_mean = data[col].mean()\n",
    "        data[col] = data[col].apply(lambda x: col_mean if np.isnan(x) or np.isinf(x) else x)\n",
    "\n",
    "# Check for outliers and remove them if necessary\n",
    "data = data[(data['Salequantity'] < data['Salequantity'].quantile(0.99)) &\n",
    "            (data['Salequantity'] > data['Salequantity'].quantile(0.01))]"
   ]
  },
  {
   "cell_type": "markdown",
   "id": "28b4d219-cb34-4fac-b141-7d3a4a1f1e73",
   "metadata": {
    "tags": []
   },
   "source": [
    "## EDA\n",
    "\n",
    "We then conduct an EDA step by printing the first few rows of the DataFrame to get a sense of the data's structure and format. We also create a simple plot of monthly sales to visualize any trends or patterns in the data."
   ]
  },
  {
   "cell_type": "code",
   "execution_count": 7,
   "id": "205880ae-ebaf-463e-94e0-4ee7ecdcbfc7",
   "metadata": {},
   "outputs": [
    {
     "data": {
      "text/html": [
       "<div>\n",
       "<style scoped>\n",
       "    .dataframe tbody tr th:only-of-type {\n",
       "        vertical-align: middle;\n",
       "    }\n",
       "\n",
       "    .dataframe tbody tr th {\n",
       "        vertical-align: top;\n",
       "    }\n",
       "\n",
       "    .dataframe thead th {\n",
       "        text-align: right;\n",
       "    }\n",
       "</style>\n",
       "<table border=\"1\" class=\"dataframe\">\n",
       "  <thead>\n",
       "    <tr style=\"text-align: right;\">\n",
       "      <th></th>\n",
       "      <th>Date</th>\n",
       "      <th>StoreNumber</th>\n",
       "      <th>Itemnumber</th>\n",
       "      <th>Itemname</th>\n",
       "      <th>Salesamount</th>\n",
       "      <th>Salequantity</th>\n",
       "      <th>Unitofsale</th>\n",
       "      <th>Totalpromotionbaseddatestoreanditems</th>\n",
       "      <th>Promotionflag</th>\n",
       "    </tr>\n",
       "  </thead>\n",
       "  <tbody>\n",
       "    <tr>\n",
       "      <th>0</th>\n",
       "      <td>2018-10-30</td>\n",
       "      <td>3349</td>\n",
       "      <td>33288729</td>\n",
       "      <td>PATATES TAZE DÖKME KG</td>\n",
       "      <td>125.71</td>\n",
       "      <td>36.430</td>\n",
       "      <td>KG</td>\n",
       "      <td>235.42</td>\n",
       "      <td>0</td>\n",
       "    </tr>\n",
       "    <tr>\n",
       "      <th>1</th>\n",
       "      <td>2018-03-31</td>\n",
       "      <td>3853</td>\n",
       "      <td>91273613</td>\n",
       "      <td>ELMA PINK LADY KG</td>\n",
       "      <td>9.55</td>\n",
       "      <td>2.395</td>\n",
       "      <td>KG</td>\n",
       "      <td>478.16</td>\n",
       "      <td>0</td>\n",
       "    </tr>\n",
       "    <tr>\n",
       "      <th>2</th>\n",
       "      <td>2017-08-13</td>\n",
       "      <td>607</td>\n",
       "      <td>20280029</td>\n",
       "      <td>PATATES TAZE MİNİ KG.</td>\n",
       "      <td>43.65</td>\n",
       "      <td>8.819</td>\n",
       "      <td>KG</td>\n",
       "      <td>4903.35</td>\n",
       "      <td>0</td>\n",
       "    </tr>\n",
       "    <tr>\n",
       "      <th>3</th>\n",
       "      <td>2017-09-21</td>\n",
       "      <td>607</td>\n",
       "      <td>60270013</td>\n",
       "      <td>ELMA GALA KG</td>\n",
       "      <td>123.09</td>\n",
       "      <td>41.171</td>\n",
       "      <td>KG</td>\n",
       "      <td>445.73</td>\n",
       "      <td>0</td>\n",
       "    </tr>\n",
       "    <tr>\n",
       "      <th>4</th>\n",
       "      <td>2018-04-04</td>\n",
       "      <td>607</td>\n",
       "      <td>91273613</td>\n",
       "      <td>ELMA PINK LADY KG</td>\n",
       "      <td>88.42</td>\n",
       "      <td>22.158</td>\n",
       "      <td>KG</td>\n",
       "      <td>607.46</td>\n",
       "      <td>0</td>\n",
       "    </tr>\n",
       "  </tbody>\n",
       "</table>\n",
       "</div>"
      ],
      "text/plain": [
       "        Date  StoreNumber  Itemnumber  \\\n",
       "0 2018-10-30         3349    33288729   \n",
       "1 2018-03-31         3853    91273613   \n",
       "2 2017-08-13          607    20280029   \n",
       "3 2017-09-21          607    60270013   \n",
       "4 2018-04-04          607    91273613   \n",
       "\n",
       "                                   Itemname  Salesamount  Salequantity  \\\n",
       "0  PATATES TAZE DÖKME KG                          125.71        36.430   \n",
       "1  ELMA PINK LADY KG                                9.55         2.395   \n",
       "2  PATATES TAZE MİNİ KG.                           43.65         8.819   \n",
       "3  ELMA GALA KG                                   123.09        41.171   \n",
       "4  ELMA PINK LADY KG                               88.42        22.158   \n",
       "\n",
       "  Unitofsale  Totalpromotionbaseddatestoreanditems  Promotionflag  \n",
       "0         KG                                235.42              0  \n",
       "1         KG                                478.16              0  \n",
       "2         KG                               4903.35              0  \n",
       "3         KG                                445.73              0  \n",
       "4         KG                                607.46              0  "
      ]
     },
     "metadata": {},
     "output_type": "display_data"
    },
    {
     "data": {
      "text/html": [
       "<div>\n",
       "<style scoped>\n",
       "    .dataframe tbody tr th:only-of-type {\n",
       "        vertical-align: middle;\n",
       "    }\n",
       "\n",
       "    .dataframe tbody tr th {\n",
       "        vertical-align: top;\n",
       "    }\n",
       "\n",
       "    .dataframe thead th {\n",
       "        text-align: right;\n",
       "    }\n",
       "</style>\n",
       "<table border=\"1\" class=\"dataframe\">\n",
       "  <thead>\n",
       "    <tr style=\"text-align: right;\">\n",
       "      <th></th>\n",
       "      <th>StoreNumber</th>\n",
       "      <th>Itemnumber</th>\n",
       "      <th>Salesamount</th>\n",
       "      <th>Salequantity</th>\n",
       "      <th>Totalpromotionbaseddatestoreanditems</th>\n",
       "      <th>Promotionflag</th>\n",
       "    </tr>\n",
       "  </thead>\n",
       "  <tbody>\n",
       "    <tr>\n",
       "      <th>count</th>\n",
       "      <td>21596.000000</td>\n",
       "      <td>2.159600e+04</td>\n",
       "      <td>21596.000000</td>\n",
       "      <td>21596.000000</td>\n",
       "      <td>21596.000000</td>\n",
       "      <td>21596.000000</td>\n",
       "    </tr>\n",
       "    <tr>\n",
       "      <th>mean</th>\n",
       "      <td>2340.182626</td>\n",
       "      <td>3.037228e+07</td>\n",
       "      <td>91.775198</td>\n",
       "      <td>22.333678</td>\n",
       "      <td>1498.032137</td>\n",
       "      <td>0.058946</td>\n",
       "    </tr>\n",
       "    <tr>\n",
       "      <th>std</th>\n",
       "      <td>1506.018226</td>\n",
       "      <td>2.355306e+07</td>\n",
       "      <td>139.337792</td>\n",
       "      <td>38.583078</td>\n",
       "      <td>2409.087091</td>\n",
       "      <td>0.235529</td>\n",
       "    </tr>\n",
       "    <tr>\n",
       "      <th>min</th>\n",
       "      <td>607.000000</td>\n",
       "      <td>2.703130e+05</td>\n",
       "      <td>0.810000</td>\n",
       "      <td>0.305000</td>\n",
       "      <td>0.000000</td>\n",
       "      <td>0.000000</td>\n",
       "    </tr>\n",
       "    <tr>\n",
       "      <th>25%</th>\n",
       "      <td>607.000000</td>\n",
       "      <td>1.027035e+07</td>\n",
       "      <td>19.570000</td>\n",
       "      <td>3.580000</td>\n",
       "      <td>192.650000</td>\n",
       "      <td>0.000000</td>\n",
       "    </tr>\n",
       "    <tr>\n",
       "      <th>50%</th>\n",
       "      <td>3349.000000</td>\n",
       "      <td>3.328803e+07</td>\n",
       "      <td>46.670000</td>\n",
       "      <td>9.257500</td>\n",
       "      <td>625.480000</td>\n",
       "      <td>0.000000</td>\n",
       "    </tr>\n",
       "    <tr>\n",
       "      <th>75%</th>\n",
       "      <td>3853.000000</td>\n",
       "      <td>4.527121e+07</td>\n",
       "      <td>104.692500</td>\n",
       "      <td>23.061250</td>\n",
       "      <td>1632.752500</td>\n",
       "      <td>0.000000</td>\n",
       "    </tr>\n",
       "    <tr>\n",
       "      <th>max</th>\n",
       "      <td>3853.000000</td>\n",
       "      <td>9.227441e+07</td>\n",
       "      <td>2380.000000</td>\n",
       "      <td>296.000000</td>\n",
       "      <td>18958.330000</td>\n",
       "      <td>1.000000</td>\n",
       "    </tr>\n",
       "  </tbody>\n",
       "</table>\n",
       "</div>"
      ],
      "text/plain": [
       "        StoreNumber    Itemnumber   Salesamount  Salequantity  \\\n",
       "count  21596.000000  2.159600e+04  21596.000000  21596.000000   \n",
       "mean    2340.182626  3.037228e+07     91.775198     22.333678   \n",
       "std     1506.018226  2.355306e+07    139.337792     38.583078   \n",
       "min      607.000000  2.703130e+05      0.810000      0.305000   \n",
       "25%      607.000000  1.027035e+07     19.570000      3.580000   \n",
       "50%     3349.000000  3.328803e+07     46.670000      9.257500   \n",
       "75%     3853.000000  4.527121e+07    104.692500     23.061250   \n",
       "max     3853.000000  9.227441e+07   2380.000000    296.000000   \n",
       "\n",
       "       Totalpromotionbaseddatestoreanditems  Promotionflag  \n",
       "count                          21596.000000   21596.000000  \n",
       "mean                            1498.032137       0.058946  \n",
       "std                             2409.087091       0.235529  \n",
       "min                                0.000000       0.000000  \n",
       "25%                              192.650000       0.000000  \n",
       "50%                              625.480000       0.000000  \n",
       "75%                             1632.752500       0.000000  \n",
       "max                            18958.330000       1.000000  "
      ]
     },
     "metadata": {},
     "output_type": "display_data"
    },
    {
     "data": {
      "text/html": [
       "        <script type=\"text/javascript\">\n",
       "        window.PlotlyConfig = {MathJaxConfig: 'local'};\n",
       "        if (window.MathJax && window.MathJax.Hub && window.MathJax.Hub.Config) {window.MathJax.Hub.Config({SVG: {font: \"STIX-Web\"}});}\n",
       "        if (typeof require !== 'undefined') {\n",
       "        require.undef(\"plotly\");\n",
       "        requirejs.config({\n",
       "            paths: {\n",
       "                'plotly': ['https://cdn.plot.ly/plotly-2.12.1.min']\n",
       "            }\n",
       "        });\n",
       "        require(['plotly'], function(Plotly) {\n",
       "            window._Plotly = Plotly;\n",
       "        });\n",
       "        }\n",
       "        </script>\n",
       "        "
      ]
     },
     "metadata": {},
     "output_type": "display_data"
    },
    {
     "data": {
      "application/vnd.plotly.v1+json": {
       "config": {
        "linkText": "Export to plot.ly",
        "plotlyServerURL": "https://plot.ly",
        "showLink": false
       },
       "data": [
        {
         "mode": "lines+markers",
         "type": "scatter",
         "x": [
          "2017-01-31T00:00:00",
          "2017-02-28T00:00:00",
          "2017-03-31T00:00:00",
          "2017-04-30T00:00:00",
          "2017-05-31T00:00:00",
          "2017-06-30T00:00:00",
          "2017-07-31T00:00:00",
          "2017-08-31T00:00:00",
          "2017-09-30T00:00:00",
          "2017-10-31T00:00:00",
          "2017-11-30T00:00:00",
          "2017-12-31T00:00:00",
          "2018-01-31T00:00:00",
          "2018-02-28T00:00:00",
          "2018-03-31T00:00:00",
          "2018-04-30T00:00:00",
          "2018-05-31T00:00:00",
          "2018-06-30T00:00:00",
          "2018-07-31T00:00:00",
          "2018-08-31T00:00:00",
          "2018-09-30T00:00:00",
          "2018-10-31T00:00:00",
          "2018-11-30T00:00:00",
          "2018-12-31T00:00:00"
         ],
         "y": [
          95335.37,
          86273.39,
          117700.76,
          113104.12,
          87664.81,
          50084.18,
          53655.25,
          41723.55,
          61486.81,
          67761.91,
          73615.33,
          104078.24,
          88918.85,
          88068.44,
          104498.12,
          93826.2,
          88652.37,
          78045.97,
          69742.43,
          60128.75,
          67756.83,
          79940.17,
          86464.66,
          123450.67
         ]
        }
       ],
       "layout": {
        "autosize": true,
        "template": {
         "data": {
          "bar": [
           {
            "error_x": {
             "color": "#2a3f5f"
            },
            "error_y": {
             "color": "#2a3f5f"
            },
            "marker": {
             "line": {
              "color": "#E5ECF6",
              "width": 0.5
             },
             "pattern": {
              "fillmode": "overlay",
              "size": 10,
              "solidity": 0.2
             }
            },
            "type": "bar"
           }
          ],
          "barpolar": [
           {
            "marker": {
             "line": {
              "color": "#E5ECF6",
              "width": 0.5
             },
             "pattern": {
              "fillmode": "overlay",
              "size": 10,
              "solidity": 0.2
             }
            },
            "type": "barpolar"
           }
          ],
          "carpet": [
           {
            "aaxis": {
             "endlinecolor": "#2a3f5f",
             "gridcolor": "white",
             "linecolor": "white",
             "minorgridcolor": "white",
             "startlinecolor": "#2a3f5f"
            },
            "baxis": {
             "endlinecolor": "#2a3f5f",
             "gridcolor": "white",
             "linecolor": "white",
             "minorgridcolor": "white",
             "startlinecolor": "#2a3f5f"
            },
            "type": "carpet"
           }
          ],
          "choropleth": [
           {
            "colorbar": {
             "outlinewidth": 0,
             "ticks": ""
            },
            "type": "choropleth"
           }
          ],
          "contour": [
           {
            "colorbar": {
             "outlinewidth": 0,
             "ticks": ""
            },
            "colorscale": [
             [
              0,
              "#0d0887"
             ],
             [
              0.1111111111111111,
              "#46039f"
             ],
             [
              0.2222222222222222,
              "#7201a8"
             ],
             [
              0.3333333333333333,
              "#9c179e"
             ],
             [
              0.4444444444444444,
              "#bd3786"
             ],
             [
              0.5555555555555556,
              "#d8576b"
             ],
             [
              0.6666666666666666,
              "#ed7953"
             ],
             [
              0.7777777777777778,
              "#fb9f3a"
             ],
             [
              0.8888888888888888,
              "#fdca26"
             ],
             [
              1,
              "#f0f921"
             ]
            ],
            "type": "contour"
           }
          ],
          "contourcarpet": [
           {
            "colorbar": {
             "outlinewidth": 0,
             "ticks": ""
            },
            "type": "contourcarpet"
           }
          ],
          "heatmap": [
           {
            "colorbar": {
             "outlinewidth": 0,
             "ticks": ""
            },
            "colorscale": [
             [
              0,
              "#0d0887"
             ],
             [
              0.1111111111111111,
              "#46039f"
             ],
             [
              0.2222222222222222,
              "#7201a8"
             ],
             [
              0.3333333333333333,
              "#9c179e"
             ],
             [
              0.4444444444444444,
              "#bd3786"
             ],
             [
              0.5555555555555556,
              "#d8576b"
             ],
             [
              0.6666666666666666,
              "#ed7953"
             ],
             [
              0.7777777777777778,
              "#fb9f3a"
             ],
             [
              0.8888888888888888,
              "#fdca26"
             ],
             [
              1,
              "#f0f921"
             ]
            ],
            "type": "heatmap"
           }
          ],
          "heatmapgl": [
           {
            "colorbar": {
             "outlinewidth": 0,
             "ticks": ""
            },
            "colorscale": [
             [
              0,
              "#0d0887"
             ],
             [
              0.1111111111111111,
              "#46039f"
             ],
             [
              0.2222222222222222,
              "#7201a8"
             ],
             [
              0.3333333333333333,
              "#9c179e"
             ],
             [
              0.4444444444444444,
              "#bd3786"
             ],
             [
              0.5555555555555556,
              "#d8576b"
             ],
             [
              0.6666666666666666,
              "#ed7953"
             ],
             [
              0.7777777777777778,
              "#fb9f3a"
             ],
             [
              0.8888888888888888,
              "#fdca26"
             ],
             [
              1,
              "#f0f921"
             ]
            ],
            "type": "heatmapgl"
           }
          ],
          "histogram": [
           {
            "marker": {
             "pattern": {
              "fillmode": "overlay",
              "size": 10,
              "solidity": 0.2
             }
            },
            "type": "histogram"
           }
          ],
          "histogram2d": [
           {
            "colorbar": {
             "outlinewidth": 0,
             "ticks": ""
            },
            "colorscale": [
             [
              0,
              "#0d0887"
             ],
             [
              0.1111111111111111,
              "#46039f"
             ],
             [
              0.2222222222222222,
              "#7201a8"
             ],
             [
              0.3333333333333333,
              "#9c179e"
             ],
             [
              0.4444444444444444,
              "#bd3786"
             ],
             [
              0.5555555555555556,
              "#d8576b"
             ],
             [
              0.6666666666666666,
              "#ed7953"
             ],
             [
              0.7777777777777778,
              "#fb9f3a"
             ],
             [
              0.8888888888888888,
              "#fdca26"
             ],
             [
              1,
              "#f0f921"
             ]
            ],
            "type": "histogram2d"
           }
          ],
          "histogram2dcontour": [
           {
            "colorbar": {
             "outlinewidth": 0,
             "ticks": ""
            },
            "colorscale": [
             [
              0,
              "#0d0887"
             ],
             [
              0.1111111111111111,
              "#46039f"
             ],
             [
              0.2222222222222222,
              "#7201a8"
             ],
             [
              0.3333333333333333,
              "#9c179e"
             ],
             [
              0.4444444444444444,
              "#bd3786"
             ],
             [
              0.5555555555555556,
              "#d8576b"
             ],
             [
              0.6666666666666666,
              "#ed7953"
             ],
             [
              0.7777777777777778,
              "#fb9f3a"
             ],
             [
              0.8888888888888888,
              "#fdca26"
             ],
             [
              1,
              "#f0f921"
             ]
            ],
            "type": "histogram2dcontour"
           }
          ],
          "mesh3d": [
           {
            "colorbar": {
             "outlinewidth": 0,
             "ticks": ""
            },
            "type": "mesh3d"
           }
          ],
          "parcoords": [
           {
            "line": {
             "colorbar": {
              "outlinewidth": 0,
              "ticks": ""
             }
            },
            "type": "parcoords"
           }
          ],
          "pie": [
           {
            "automargin": true,
            "type": "pie"
           }
          ],
          "scatter": [
           {
            "fillpattern": {
             "fillmode": "overlay",
             "size": 10,
             "solidity": 0.2
            },
            "type": "scatter"
           }
          ],
          "scatter3d": [
           {
            "line": {
             "colorbar": {
              "outlinewidth": 0,
              "ticks": ""
             }
            },
            "marker": {
             "colorbar": {
              "outlinewidth": 0,
              "ticks": ""
             }
            },
            "type": "scatter3d"
           }
          ],
          "scattercarpet": [
           {
            "marker": {
             "colorbar": {
              "outlinewidth": 0,
              "ticks": ""
             }
            },
            "type": "scattercarpet"
           }
          ],
          "scattergeo": [
           {
            "marker": {
             "colorbar": {
              "outlinewidth": 0,
              "ticks": ""
             }
            },
            "type": "scattergeo"
           }
          ],
          "scattergl": [
           {
            "marker": {
             "colorbar": {
              "outlinewidth": 0,
              "ticks": ""
             }
            },
            "type": "scattergl"
           }
          ],
          "scattermapbox": [
           {
            "marker": {
             "colorbar": {
              "outlinewidth": 0,
              "ticks": ""
             }
            },
            "type": "scattermapbox"
           }
          ],
          "scatterpolar": [
           {
            "marker": {
             "colorbar": {
              "outlinewidth": 0,
              "ticks": ""
             }
            },
            "type": "scatterpolar"
           }
          ],
          "scatterpolargl": [
           {
            "marker": {
             "colorbar": {
              "outlinewidth": 0,
              "ticks": ""
             }
            },
            "type": "scatterpolargl"
           }
          ],
          "scatterternary": [
           {
            "marker": {
             "colorbar": {
              "outlinewidth": 0,
              "ticks": ""
             }
            },
            "type": "scatterternary"
           }
          ],
          "surface": [
           {
            "colorbar": {
             "outlinewidth": 0,
             "ticks": ""
            },
            "colorscale": [
             [
              0,
              "#0d0887"
             ],
             [
              0.1111111111111111,
              "#46039f"
             ],
             [
              0.2222222222222222,
              "#7201a8"
             ],
             [
              0.3333333333333333,
              "#9c179e"
             ],
             [
              0.4444444444444444,
              "#bd3786"
             ],
             [
              0.5555555555555556,
              "#d8576b"
             ],
             [
              0.6666666666666666,
              "#ed7953"
             ],
             [
              0.7777777777777778,
              "#fb9f3a"
             ],
             [
              0.8888888888888888,
              "#fdca26"
             ],
             [
              1,
              "#f0f921"
             ]
            ],
            "type": "surface"
           }
          ],
          "table": [
           {
            "cells": {
             "fill": {
              "color": "#EBF0F8"
             },
             "line": {
              "color": "white"
             }
            },
            "header": {
             "fill": {
              "color": "#C8D4E3"
             },
             "line": {
              "color": "white"
             }
            },
            "type": "table"
           }
          ]
         },
         "layout": {
          "annotationdefaults": {
           "arrowcolor": "#2a3f5f",
           "arrowhead": 0,
           "arrowwidth": 1
          },
          "autotypenumbers": "strict",
          "coloraxis": {
           "colorbar": {
            "outlinewidth": 0,
            "ticks": ""
           }
          },
          "colorscale": {
           "diverging": [
            [
             0,
             "#8e0152"
            ],
            [
             0.1,
             "#c51b7d"
            ],
            [
             0.2,
             "#de77ae"
            ],
            [
             0.3,
             "#f1b6da"
            ],
            [
             0.4,
             "#fde0ef"
            ],
            [
             0.5,
             "#f7f7f7"
            ],
            [
             0.6,
             "#e6f5d0"
            ],
            [
             0.7,
             "#b8e186"
            ],
            [
             0.8,
             "#7fbc41"
            ],
            [
             0.9,
             "#4d9221"
            ],
            [
             1,
             "#276419"
            ]
           ],
           "sequential": [
            [
             0,
             "#0d0887"
            ],
            [
             0.1111111111111111,
             "#46039f"
            ],
            [
             0.2222222222222222,
             "#7201a8"
            ],
            [
             0.3333333333333333,
             "#9c179e"
            ],
            [
             0.4444444444444444,
             "#bd3786"
            ],
            [
             0.5555555555555556,
             "#d8576b"
            ],
            [
             0.6666666666666666,
             "#ed7953"
            ],
            [
             0.7777777777777778,
             "#fb9f3a"
            ],
            [
             0.8888888888888888,
             "#fdca26"
            ],
            [
             1,
             "#f0f921"
            ]
           ],
           "sequentialminus": [
            [
             0,
             "#0d0887"
            ],
            [
             0.1111111111111111,
             "#46039f"
            ],
            [
             0.2222222222222222,
             "#7201a8"
            ],
            [
             0.3333333333333333,
             "#9c179e"
            ],
            [
             0.4444444444444444,
             "#bd3786"
            ],
            [
             0.5555555555555556,
             "#d8576b"
            ],
            [
             0.6666666666666666,
             "#ed7953"
            ],
            [
             0.7777777777777778,
             "#fb9f3a"
            ],
            [
             0.8888888888888888,
             "#fdca26"
            ],
            [
             1,
             "#f0f921"
            ]
           ]
          },
          "colorway": [
           "#636efa",
           "#EF553B",
           "#00cc96",
           "#ab63fa",
           "#FFA15A",
           "#19d3f3",
           "#FF6692",
           "#B6E880",
           "#FF97FF",
           "#FECB52"
          ],
          "font": {
           "color": "#2a3f5f"
          },
          "geo": {
           "bgcolor": "white",
           "lakecolor": "white",
           "landcolor": "#E5ECF6",
           "showlakes": true,
           "showland": true,
           "subunitcolor": "white"
          },
          "hoverlabel": {
           "align": "left"
          },
          "hovermode": "closest",
          "mapbox": {
           "style": "light"
          },
          "paper_bgcolor": "white",
          "plot_bgcolor": "#E5ECF6",
          "polar": {
           "angularaxis": {
            "gridcolor": "white",
            "linecolor": "white",
            "ticks": ""
           },
           "bgcolor": "#E5ECF6",
           "radialaxis": {
            "gridcolor": "white",
            "linecolor": "white",
            "ticks": ""
           }
          },
          "scene": {
           "xaxis": {
            "backgroundcolor": "#E5ECF6",
            "gridcolor": "white",
            "gridwidth": 2,
            "linecolor": "white",
            "showbackground": true,
            "ticks": "",
            "zerolinecolor": "white"
           },
           "yaxis": {
            "backgroundcolor": "#E5ECF6",
            "gridcolor": "white",
            "gridwidth": 2,
            "linecolor": "white",
            "showbackground": true,
            "ticks": "",
            "zerolinecolor": "white"
           },
           "zaxis": {
            "backgroundcolor": "#E5ECF6",
            "gridcolor": "white",
            "gridwidth": 2,
            "linecolor": "white",
            "showbackground": true,
            "ticks": "",
            "zerolinecolor": "white"
           }
          },
          "shapedefaults": {
           "line": {
            "color": "#2a3f5f"
           }
          },
          "ternary": {
           "aaxis": {
            "gridcolor": "white",
            "linecolor": "white",
            "ticks": ""
           },
           "baxis": {
            "gridcolor": "white",
            "linecolor": "white",
            "ticks": ""
           },
           "bgcolor": "#E5ECF6",
           "caxis": {
            "gridcolor": "white",
            "linecolor": "white",
            "ticks": ""
           }
          },
          "title": {
           "x": 0.05
          },
          "xaxis": {
           "automargin": true,
           "gridcolor": "white",
           "linecolor": "white",
           "ticks": "",
           "title": {
            "standoff": 15
           },
           "zerolinecolor": "white",
           "zerolinewidth": 2
          },
          "yaxis": {
           "automargin": true,
           "gridcolor": "white",
           "linecolor": "white",
           "ticks": "",
           "title": {
            "standoff": 15
           },
           "zerolinecolor": "white",
           "zerolinewidth": 2
          }
         }
        },
        "title": {
         "text": "Monthly Sales"
        },
        "xaxis": {
         "autorange": true,
         "range": [
          "2016-12-21 07:44:13.4954",
          "2019-02-09 16:15:46.5046"
         ],
         "title": {
          "text": "Date"
         },
         "type": "date"
        },
        "yaxis": {
         "autorange": true,
         "range": [
          34979.078932038836,
          130195.14106796116
         ],
         "title": {
          "text": "Salesamount"
         },
         "type": "linear"
        }
       }
      },
      "image/png": "[encoded data removed]",
      "text/html": [
       "<div>                            <div id=\"74ea8389-cba6-49bc-9570-06bcecaf6edc\" class=\"plotly-graph-div\" style=\"height:525px; width:100%;\"></div>            <script type=\"text/javascript\">                require([\"plotly\"], function(Plotly) {                    window.PLOTLYENV=window.PLOTLYENV || {};                                    if (document.getElementById(\"74ea8389-cba6-49bc-9570-06bcecaf6edc\")) {                    Plotly.newPlot(                        \"74ea8389-cba6-49bc-9570-06bcecaf6edc\",                        [{\"mode\":\"lines+markers\",\"x\":[\"2017-01-31T00:00:00\",\"2017-02-28T00:00:00\",\"2017-03-31T00:00:00\",\"2017-04-30T00:00:00\",\"2017-05-31T00:00:00\",\"2017-06-30T00:00:00\",\"2017-07-31T00:00:00\",\"2017-08-31T00:00:00\",\"2017-09-30T00:00:00\",\"2017-10-31T00:00:00\",\"2017-11-30T00:00:00\",\"2017-12-31T00:00:00\",\"2018-01-31T00:00:00\",\"2018-02-28T00:00:00\",\"2018-03-31T00:00:00\",\"2018-04-30T00:00:00\",\"2018-05-31T00:00:00\",\"2018-06-30T00:00:00\",\"2018-07-31T00:00:00\",\"2018-08-31T00:00:00\",\"2018-09-30T00:00:00\",\"2018-10-31T00:00:00\",\"2018-11-30T00:00:00\",\"2018-12-31T00:00:00\"],\"y\":[95335.37,86273.39,117700.76,113104.12,87664.81,50084.18,53655.25,41723.55,61486.81,67761.91,73615.33,104078.24,88918.85,88068.44,104498.12,93826.2,88652.37,78045.97,69742.43,60128.75,67756.83,79940.17,86464.66,123450.67],\"type\":\"scatter\"}],                        {\"template\":{\"data\":{\"barpolar\":[{\"marker\":{\"line\":{\"color\":\"#E5ECF6\",\"width\":0.5},\"pattern\":{\"fillmode\":\"overlay\",\"size\":10,\"solidity\":0.2}},\"type\":\"barpolar\"}],\"bar\":[{\"error_x\":{\"color\":\"#2a3f5f\"},\"error_y\":{\"color\":\"#2a3f5f\"},\"marker\":{\"line\":{\"color\":\"#E5ECF6\",\"width\":0.5},\"pattern\":{\"fillmode\":\"overlay\",\"size\":10,\"solidity\":0.2}},\"type\":\"bar\"}],\"carpet\":[{\"aaxis\":{\"endlinecolor\":\"#2a3f5f\",\"gridcolor\":\"white\",\"linecolor\":\"white\",\"minorgridcolor\":\"white\",\"startlinecolor\":\"#2a3f5f\"},\"baxis\":{\"endlinecolor\":\"#2a3f5f\",\"gridcolor\":\"white\",\"linecolor\":\"white\",\"minorgridcolor\":\"white\",\"startlinecolor\":\"#2a3f5f\"},\"type\":\"carpet\"}],\"choropleth\":[{\"colorbar\":{\"outlinewidth\":0,\"ticks\":\"\"},\"type\":\"choropleth\"}],\"contourcarpet\":[{\"colorbar\":{\"outlinewidth\":0,\"ticks\":\"\"},\"type\":\"contourcarpet\"}],\"contour\":[{\"colorbar\":{\"outlinewidth\":0,\"ticks\":\"\"},\"colorscale\":[[0.0,\"#0d0887\"],[0.1111111111111111,\"#46039f\"],[0.2222222222222222,\"#7201a8\"],[0.3333333333333333,\"#9c179e\"],[0.4444444444444444,\"#bd3786\"],[0.5555555555555556,\"#d8576b\"],[0.6666666666666666,\"#ed7953\"],[0.7777777777777778,\"#fb9f3a\"],[0.8888888888888888,\"#fdca26\"],[1.0,\"#f0f921\"]],\"type\":\"contour\"}],\"heatmapgl\":[{\"colorbar\":{\"outlinewidth\":0,\"ticks\":\"\"},\"colorscale\":[[0.0,\"#0d0887\"],[0.1111111111111111,\"#46039f\"],[0.2222222222222222,\"#7201a8\"],[0.3333333333333333,\"#9c179e\"],[0.4444444444444444,\"#bd3786\"],[0.5555555555555556,\"#d8576b\"],[0.6666666666666666,\"#ed7953\"],[0.7777777777777778,\"#fb9f3a\"],[0.8888888888888888,\"#fdca26\"],[1.0,\"#f0f921\"]],\"type\":\"heatmapgl\"}],\"heatmap\":[{\"colorbar\":{\"outlinewidth\":0,\"ticks\":\"\"},\"colorscale\":[[0.0,\"#0d0887\"],[0.1111111111111111,\"#46039f\"],[0.2222222222222222,\"#7201a8\"],[0.3333333333333333,\"#9c179e\"],[0.4444444444444444,\"#bd3786\"],[0.5555555555555556,\"#d8576b\"],[0.6666666666666666,\"#ed7953\"],[0.7777777777777778,\"#fb9f3a\"],[0.8888888888888888,\"#fdca26\"],[1.0,\"#f0f921\"]],\"type\":\"heatmap\"}],\"histogram2dcontour\":[{\"colorbar\":{\"outlinewidth\":0,\"ticks\":\"\"},\"colorscale\":[[0.0,\"#0d0887\"],[0.1111111111111111,\"#46039f\"],[0.2222222222222222,\"#7201a8\"],[0.3333333333333333,\"#9c179e\"],[0.4444444444444444,\"#bd3786\"],[0.5555555555555556,\"#d8576b\"],[0.6666666666666666,\"#ed7953\"],[0.7777777777777778,\"#fb9f3a\"],[0.8888888888888888,\"#fdca26\"],[1.0,\"#f0f921\"]],\"type\":\"histogram2dcontour\"}],\"histogram2d\":[{\"colorbar\":{\"outlinewidth\":0,\"ticks\":\"\"},\"colorscale\":[[0.0,\"#0d0887\"],[0.1111111111111111,\"#46039f\"],[0.2222222222222222,\"#7201a8\"],[0.3333333333333333,\"#9c179e\"],[0.4444444444444444,\"#bd3786\"],[0.5555555555555556,\"#d8576b\"],[0.6666666666666666,\"#ed7953\"],[0.7777777777777778,\"#fb9f3a\"],[0.8888888888888888,\"#fdca26\"],[1.0,\"#f0f921\"]],\"type\":\"histogram2d\"}],\"histogram\":[{\"marker\":{\"pattern\":{\"fillmode\":\"overlay\",\"size\":10,\"solidity\":0.2}},\"type\":\"histogram\"}],\"mesh3d\":[{\"colorbar\":{\"outlinewidth\":0,\"ticks\":\"\"},\"type\":\"mesh3d\"}],\"parcoords\":[{\"line\":{\"colorbar\":{\"outlinewidth\":0,\"ticks\":\"\"}},\"type\":\"parcoords\"}],\"pie\":[{\"automargin\":true,\"type\":\"pie\"}],\"scatter3d\":[{\"line\":{\"colorbar\":{\"outlinewidth\":0,\"ticks\":\"\"}},\"marker\":{\"colorbar\":{\"outlinewidth\":0,\"ticks\":\"\"}},\"type\":\"scatter3d\"}],\"scattercarpet\":[{\"marker\":{\"colorbar\":{\"outlinewidth\":0,\"ticks\":\"\"}},\"type\":\"scattercarpet\"}],\"scattergeo\":[{\"marker\":{\"colorbar\":{\"outlinewidth\":0,\"ticks\":\"\"}},\"type\":\"scattergeo\"}],\"scattergl\":[{\"marker\":{\"colorbar\":{\"outlinewidth\":0,\"ticks\":\"\"}},\"type\":\"scattergl\"}],\"scattermapbox\":[{\"marker\":{\"colorbar\":{\"outlinewidth\":0,\"ticks\":\"\"}},\"type\":\"scattermapbox\"}],\"scatterpolargl\":[{\"marker\":{\"colorbar\":{\"outlinewidth\":0,\"ticks\":\"\"}},\"type\":\"scatterpolargl\"}],\"scatterpolar\":[{\"marker\":{\"colorbar\":{\"outlinewidth\":0,\"ticks\":\"\"}},\"type\":\"scatterpolar\"}],\"scatter\":[{\"fillpattern\":{\"fillmode\":\"overlay\",\"size\":10,\"solidity\":0.2},\"type\":\"scatter\"}],\"scatterternary\":[{\"marker\":{\"colorbar\":{\"outlinewidth\":0,\"ticks\":\"\"}},\"type\":\"scatterternary\"}],\"surface\":[{\"colorbar\":{\"outlinewidth\":0,\"ticks\":\"\"},\"colorscale\":[[0.0,\"#0d0887\"],[0.1111111111111111,\"#46039f\"],[0.2222222222222222,\"#7201a8\"],[0.3333333333333333,\"#9c179e\"],[0.4444444444444444,\"#bd3786\"],[0.5555555555555556,\"#d8576b\"],[0.6666666666666666,\"#ed7953\"],[0.7777777777777778,\"#fb9f3a\"],[0.8888888888888888,\"#fdca26\"],[1.0,\"#f0f921\"]],\"type\":\"surface\"}],\"table\":[{\"cells\":{\"fill\":{\"color\":\"#EBF0F8\"},\"line\":{\"color\":\"white\"}},\"header\":{\"fill\":{\"color\":\"#C8D4E3\"},\"line\":{\"color\":\"white\"}},\"type\":\"table\"}]},\"layout\":{\"annotationdefaults\":{\"arrowcolor\":\"#2a3f5f\",\"arrowhead\":0,\"arrowwidth\":1},\"autotypenumbers\":\"strict\",\"coloraxis\":{\"colorbar\":{\"outlinewidth\":0,\"ticks\":\"\"}},\"colorscale\":{\"diverging\":[[0,\"#8e0152\"],[0.1,\"#c51b7d\"],[0.2,\"#de77ae\"],[0.3,\"#f1b6da\"],[0.4,\"#fde0ef\"],[0.5,\"#f7f7f7\"],[0.6,\"#e6f5d0\"],[0.7,\"#b8e186\"],[0.8,\"#7fbc41\"],[0.9,\"#4d9221\"],[1,\"#276419\"]],\"sequential\":[[0.0,\"#0d0887\"],[0.1111111111111111,\"#46039f\"],[0.2222222222222222,\"#7201a8\"],[0.3333333333333333,\"#9c179e\"],[0.4444444444444444,\"#bd3786\"],[0.5555555555555556,\"#d8576b\"],[0.6666666666666666,\"#ed7953\"],[0.7777777777777778,\"#fb9f3a\"],[0.8888888888888888,\"#fdca26\"],[1.0,\"#f0f921\"]],\"sequentialminus\":[[0.0,\"#0d0887\"],[0.1111111111111111,\"#46039f\"],[0.2222222222222222,\"#7201a8\"],[0.3333333333333333,\"#9c179e\"],[0.4444444444444444,\"#bd3786\"],[0.5555555555555556,\"#d8576b\"],[0.6666666666666666,\"#ed7953\"],[0.7777777777777778,\"#fb9f3a\"],[0.8888888888888888,\"#fdca26\"],[1.0,\"#f0f921\"]]},\"colorway\":[\"#636efa\",\"#EF553B\",\"#00cc96\",\"#ab63fa\",\"#FFA15A\",\"#19d3f3\",\"#FF6692\",\"#B6E880\",\"#FF97FF\",\"#FECB52\"],\"font\":{\"color\":\"#2a3f5f\"},\"geo\":{\"bgcolor\":\"white\",\"lakecolor\":\"white\",\"landcolor\":\"#E5ECF6\",\"showlakes\":true,\"showland\":true,\"subunitcolor\":\"white\"},\"hoverlabel\":{\"align\":\"left\"},\"hovermode\":\"closest\",\"mapbox\":{\"style\":\"light\"},\"paper_bgcolor\":\"white\",\"plot_bgcolor\":\"#E5ECF6\",\"polar\":{\"angularaxis\":{\"gridcolor\":\"white\",\"linecolor\":\"white\",\"ticks\":\"\"},\"bgcolor\":\"#E5ECF6\",\"radialaxis\":{\"gridcolor\":\"white\",\"linecolor\":\"white\",\"ticks\":\"\"}},\"scene\":{\"xaxis\":{\"backgroundcolor\":\"#E5ECF6\",\"gridcolor\":\"white\",\"gridwidth\":2,\"linecolor\":\"white\",\"showbackground\":true,\"ticks\":\"\",\"zerolinecolor\":\"white\"},\"yaxis\":{\"backgroundcolor\":\"#E5ECF6\",\"gridcolor\":\"white\",\"gridwidth\":2,\"linecolor\":\"white\",\"showbackground\":true,\"ticks\":\"\",\"zerolinecolor\":\"white\"},\"zaxis\":{\"backgroundcolor\":\"#E5ECF6\",\"gridcolor\":\"white\",\"gridwidth\":2,\"linecolor\":\"white\",\"showbackground\":true,\"ticks\":\"\",\"zerolinecolor\":\"white\"}},\"shapedefaults\":{\"line\":{\"color\":\"#2a3f5f\"}},\"ternary\":{\"aaxis\":{\"gridcolor\":\"white\",\"linecolor\":\"white\",\"ticks\":\"\"},\"baxis\":{\"gridcolor\":\"white\",\"linecolor\":\"white\",\"ticks\":\"\"},\"bgcolor\":\"#E5ECF6\",\"caxis\":{\"gridcolor\":\"white\",\"linecolor\":\"white\",\"ticks\":\"\"}},\"title\":{\"x\":0.05},\"xaxis\":{\"automargin\":true,\"gridcolor\":\"white\",\"linecolor\":\"white\",\"ticks\":\"\",\"title\":{\"standoff\":15},\"zerolinecolor\":\"white\",\"zerolinewidth\":2},\"yaxis\":{\"automargin\":true,\"gridcolor\":\"white\",\"linecolor\":\"white\",\"ticks\":\"\",\"title\":{\"standoff\":15},\"zerolinecolor\":\"white\",\"zerolinewidth\":2}}},\"title\":{\"text\":\"Monthly Sales\"},\"xaxis\":{\"title\":{\"text\":\"Date\"}},\"yaxis\":{\"title\":{\"text\":\"Salesamount\"}}},                        {\"responsive\": true}                    ).then(function(){\n",
       "                            \n",
       "var gd = document.getElementById('74ea8389-cba6-49bc-9570-06bcecaf6edc');\n",
       "var x = new MutationObserver(function (mutations, observer) {{\n",
       "        var display = window.getComputedStyle(gd).display;\n",
       "        if (!display || display === 'none') {{\n",
       "            console.log([gd, 'removed!']);\n",
       "            Plotly.purge(gd);\n",
       "            observer.disconnect();\n",
       "        }}\n",
       "}});\n",
       "\n",
       "// Listen for the removal of the full notebook cells\n",
       "var notebookContainer = gd.closest('#notebook-container');\n",
       "if (notebookContainer) {{\n",
       "    x.observe(notebookContainer, {childList: true});\n",
       "}}\n",
       "\n",
       "// Listen for the clearing of the current output cell\n",
       "var outputEl = gd.closest('.output');\n",
       "if (outputEl) {{\n",
       "    x.observe(outputEl, {childList: true});\n",
       "}}\n",
       "\n",
       "                        })                };                });            </script>        </div>"
      ]
     },
     "metadata": {},
     "output_type": "display_data"
    }
   ],
   "source": [
    "with pd.option_context('display.max_rows', None, 'display.max_columns', None):\n",
    "    display(data.head())\n",
    "    display(data.describe())\n",
    "\n",
    "# Plot sales by date\n",
    "data['Date'] = pd.to_datetime(data['Date'])\n",
    "monthly_sales = data.groupby(pd.Grouper(key='Date', freq='M'))['Salesamount'].sum().reset_index()\n",
    "fig = go.Figure()\n",
    "fig.add_trace(go.Scatter(x=monthly_sales['Date'], y=monthly_sales['Salesamount'], mode='lines+markers'))\n",
    "fig.update_layout(title='Monthly Sales', xaxis_title='Date', yaxis_title='Salesamount')\n",
    "pyo.init_notebook_mode(connected=True)\n",
    "pyo.iplot(fig)"
   ]
  },
  {
   "cell_type": "markdown",
   "id": "e69822c1-ead0-443f-a473-7746408d783b",
   "metadata": {
    "tags": []
   },
   "source": [
    "## Feature Engineering\n",
    "\n",
    "Next, we perform feature engineering to create new features that can potentially improve the performance of our machine learning models. We extract temporal information like the day of the week, month, and year from the date column. Additionally, we create lag features, representing past sales quantities, and rolling window features to calculate the mean and standard deviation of sales over a specific window."
   ]
  },
  {
   "cell_type": "code",
   "execution_count": 8,
   "id": "3bf70f79-d553-4a6c-815e-2d6f5805ed74",
   "metadata": {},
   "outputs": [
    {
     "name": "stderr",
     "output_type": "stream",
     "text": [
      "C:\\Users\\ronal\\AppData\\Local\\Temp\\ipykernel_22456\\970056616.py:24: FutureWarning:\n",
      "\n",
      "Series.dt.weekofyear and Series.dt.week have been deprecated. Please use Series.dt.isocalendar().week instead.\n",
      "\n"
     ]
    }
   ],
   "source": [
    "# Step 3: Feature engineering (modified)\n",
    "\n",
    "# Extract temporal features from the Date column\n",
    "data['Year'] = data['Date'].dt.year\n",
    "data['Month'] = data['Date'].dt.month\n",
    "data['Day'] = data['Date'].dt.day\n",
    "data['Weekday'] = data['Date'].dt.weekday\n",
    "\n",
    "# Create a feature for holidays or special events\n",
    "holidays_dates = [\n",
    "    '2017-01-01', '2017-12-25', '2017-11-23', '2017-07-04', '2017-12-31', '2017-05-29', '2017-09-04', '2017-02-20', '2017-10-09', '2017-11-11', '2017-01-16', \n",
    "    '2018-01-01', '2018-12-25', '2018-11-22', '2018-07-04', '2018-12-31', '2018-05-28', '2018-09-03', '2018-02-19', '2018-10-08', '2018-11-11', '2018-01-15'\n",
    "]\n",
    "\n",
    "# Convert the holiday dates to datetime objects\n",
    "holidays_dates = pd.to_datetime(holidays_dates)\n",
    "\n",
    "data['is_holiday'] = data['Date'].isin(holidays_dates).astype(int)\n",
    "\n",
    "# Create a feature to capture day of the month (e.g., beginning, middle, or end)\n",
    "data['day_of_month'] = data['Date'].apply(lambda x: 1 if 1 <= x.day <= 10 else 2 if 11 <= x.day <= 20 else 3)\n",
    "\n",
    "# Create a feature to capture week of the year\n",
    "data['week_of_year'] = data['Date'].dt.weekofyear\n",
    "\n",
    "# Create a feature to capture sales lag (e.g., sales quantity for the same item at the same store 7 days ago)\n",
    "data['sales_lag_7'] = data.groupby(['StoreNumber', 'Itemnumber'])['Salequantity'].shift(7)\n",
    "\n",
    "# Create a feature to capture the rolling mean of sales quantity (e.g., 7-day moving average)\n",
    "rolling_mean_7 = data.groupby(['StoreNumber', 'Itemnumber'])['Salequantity'].rolling(window=7).mean().reset_index(level=0, drop=True)\n",
    "data['rolling_mean_7'] = rolling_mean_7.values\n",
    "\n",
    "# Create a feature to capture the rolling standard deviation of sales quantity (e.g., 7-day moving standard deviation)\n",
    "rolling_std_7 = data.groupby(['StoreNumber', 'Itemnumber'])['Salequantity'].rolling(window=7).std().reset_index(level=0, drop=True)\n",
    "data['rolling_std_7'] = rolling_std_7.values\n",
    "\n",
    "# One-hot encode categorical variables (e.g., Store8Number, Itemnumber)\n",
    "data_encoded = pd.get_dummies(data, columns=['StoreNumber', 'Itemnumber', 'Unitofsale'])\n",
    "\n",
    "# Fill missing values created by the lag and rolling window features with appropriate methods (e.g., forward fill, backward fill, or interpolation)\n",
    "data_encoded.fillna(method='ffill', inplace=True)\n",
    "data_encoded.fillna(method='bfill', inplace=True)\n",
    "\n",
    "\n",
    "# Step 4: Train-test split\n",
    "# Define the forecasting target variable (e.g., Sales quantity) and the features\n",
    "target = 'Salequantity'\n",
    "features = data_encoded.drop(columns=[target, 'Date', 'Itemname']).columns\n",
    "\n",
    "# Split the data into training and testing sets based on time (e.g., 80% for training, 20% for testing)\n",
    "train_size = int(len(data_encoded) * 0.8)\n",
    "train_data = data_encoded.iloc[:train_size]\n",
    "test_data = data_encoded.iloc[train_size:]\n",
    "\n",
    "X_train = train_data[features]\n",
    "y_train = train_data[target]\n",
    "X_test = test_data[features]\n",
    "y_test = test_data[target]"
   ]
  },
  {
   "cell_type": "markdown",
   "id": "d4f331f9-fdb9-4f87-9d5c-49141cb5787b",
   "metadata": {
    "tags": []
   },
   "source": [
    "## Model Training Testing and Tuning\n",
    "\n",
    "For sales forecasting, we compare four different models: Linear Regression, Decision Tree Regressor, Random Forest Regressor, and LightGBM. Time series cross-validation is utilized to evaluate the models, with mean absolute percentage error (MAPE) as the performance metric. Hyperparameter tuning is performed using GridSearchCV, searching for the best combination of hyperparameters based on cross-validation results."
   ]
  },
  {
   "cell_type": "code",
   "execution_count": 9,
   "id": "b14c83c0-723a-422a-9ff2-2779a4730381",
   "metadata": {},
   "outputs": [
    {
     "name": "stdout",
     "output_type": "stream",
     "text": [
      "Training, tuning and evaluating RandomForestRegressor\n",
      "Best parameters for RandomForestRegressor: {'max_depth': 20, 'n_estimators': 500}\n",
      "Best MAPE for RandomForestRegressor: 16.682618161128556\n",
      "Training, tuning and evaluating LinearRegression\n",
      "Best parameters for LinearRegression: {}\n",
      "Best MAPE for LinearRegression: 107.49007143868076\n",
      "Training, tuning and evaluating DecisionTreeRegressor\n",
      "Best parameters for DecisionTreeRegressor: {'max_depth': 20}\n",
      "Best MAPE for DecisionTreeRegressor: 20.045873584209566\n",
      "Training, tuning and evaluating LightGBM\n",
      "Best parameters for LightGBM: {'learning_rate': 0.1, 'n_estimators': 500, 'num_leaves': 50}\n",
      "Best MAPE for LightGBM: 19.34683202186423\n",
      "Best model: RandomForestRegressor, with MAPE: 16.682618161128556\n",
      "Test Set Mean Squared Error: 52.47182793508737, Test Set Mean Absolute Error: 2.7214063071037007, Test Set Mean Absolute Percentage Error: 14.322478271571093\n"
     ]
    },
    {
     "name": "stderr",
     "output_type": "stream",
     "text": [
      "C:\\Users\\ronal\\AppData\\Local\\Temp\\ipykernel_22456\\4121833146.py:81: SettingWithCopyWarning:\n",
      "\n",
      "\n",
      "A value is trying to be set on a copy of a slice from a DataFrame.\n",
      "Try using .loc[row_indexer,col_indexer] = value instead\n",
      "\n",
      "See the caveats in the documentation: https://pandas.pydata.org/pandas-docs/stable/user_guide/indexing.html#returning-a-view-versus-a-copy\n",
      "\n"
     ]
    }
   ],
   "source": [
    "def mean_absolute_percentage_error(y_true, y_pred): \n",
    "    return np.mean(np.abs((y_true - y_pred) / y_true)) * 100\n",
    "\n",
    "def mape_scorer():\n",
    "    return make_scorer(mean_absolute_percentage_error, greater_is_better=False)\n",
    "\n",
    "# Step 5: Hyperparameter tuning, model training, evaluation and selection\n",
    "models = {\n",
    "    'RandomForestRegressor': {\n",
    "        'model': RandomForestRegressor(random_state=42),\n",
    "        'params': {\n",
    "            'n_estimators': [250, 500],\n",
    "            'max_depth': [5, 10, 20]\n",
    "        }\n",
    "    },\n",
    "    'LinearRegression': {\n",
    "        'model': LinearRegression(),\n",
    "        'params': {}\n",
    "    },\n",
    "    'DecisionTreeRegressor': {\n",
    "        'model': DecisionTreeRegressor(random_state=42),\n",
    "        'params': {\n",
    "            'max_depth': [5, 10, 20]\n",
    "        }\n",
    "    },\n",
    "    'LightGBM': {\n",
    "        'model': lgb.LGBMRegressor(random_state=42),\n",
    "        'params': {\n",
    "            'n_estimators': [250, 500],\n",
    "            'learning_rate': [0.1, 0.05],\n",
    "            'num_leaves': [31, 50]\n",
    "        }\n",
    "    }\n",
    "}\n",
    "\n",
    "# Initialize a time series cross-validator\n",
    "tscv = TimeSeriesSplit(n_splits=5)\n",
    "\n",
    "best_model = None\n",
    "best_mape = float('inf')\n",
    "\n",
    "for model_name, model_info in models.items():\n",
    "    print(f\"Training, tuning and evaluating {model_name}\")\n",
    "    \n",
    "    model = model_info['model']\n",
    "    params = model_info['params']\n",
    "    \n",
    "    grid_search = GridSearchCV(\n",
    "        estimator=model,\n",
    "        param_grid=params,\n",
    "        cv=tscv,\n",
    "        scoring=mape_scorer(),\n",
    "        n_jobs=-1\n",
    "        ,error_score='raise'\n",
    "    )\n",
    "\n",
    "    grid_search.fit(X_train, y_train)\n",
    "    \n",
    "    best_params = grid_search.best_params_\n",
    "    best_mape_cv = -1 * grid_search.best_score_\n",
    "\n",
    "    print(f\"Best parameters for {model_name}: {best_params}\")\n",
    "    print(f\"Best MAPE for {model_name}: {best_mape_cv}\")\n",
    "\n",
    "    if best_mape_cv < best_mape:\n",
    "        best_mape = best_mape_cv\n",
    "        best_model = grid_search.best_estimator_\n",
    "\n",
    "print(f\"Best model: {best_model.__class__.__name__}, with MAPE: {best_mape}\")\n",
    "\n",
    "# Step 6: Model predictions and evaluation on the test set\n",
    "y_pred_test = best_model.predict(X_test)\n",
    "\n",
    "mse_test = mean_squared_error(y_test, y_pred_test)\n",
    "mae_test = mean_absolute_error(y_test, y_pred_test)\n",
    "mape_test = mean_absolute_percentage_error(y_test, y_pred_test)\n",
    "\n",
    "print(f\"Test Set Mean Squared Error: {mse_test}, Test Set Mean Absolute Error: {mae_test}, Test Set Mean Absolute Percentage Error: {mape_test}\")\n",
    "\n",
    "# Save the model predictions to the test_data DataFrame\n",
    "test_data['Predicted Sales quantity'] = y_pred_test\n",
    "\n",
    "# Save the best model to a .pkl file\n",
    "filename = 'best_model.pkl'\n",
    "pickle.dump(best_model, open(filename, 'wb'))"
   ]
  },
  {
   "cell_type": "markdown",
   "id": "2e4129aa-5f53-4923-bc7b-ce37d56563ee",
   "metadata": {
    "tags": []
   },
   "source": [
    "## Inventory Optimization Strategy\n",
    "Upon obtaining the sales forecasts from the best-performing model, we develop an inventory management strategy, considering factors such as lead time, service level, and carrying costs. By calculating optimal order quantities (EOQ) and reorder points, the aim is to minimize stockouts and overstock situations.\n",
    "\n",
    "The data is grouped by store and item, and the annual demand and standard deviation of demand are calculated for each group. Using these values, we compute the EOQ and reorder point for each store-item combination. The resulting inventory strategy is saved to a CSV file for further analysis or implementation in a retail management system.\n"
   ]
  },
  {
   "cell_type": "code",
   "execution_count": 13,
   "id": "5aeadd7b-6077-4e35-b7d2-a2e7465887a5",
   "metadata": {},
   "outputs": [],
   "source": [
    "# Step 7: Inventory optimization\n",
    "# Read the two sheets into separate dataframes\n",
    "df1 = pd.read_excel('./data/reach_data.xlsx', sheet_name='waste-inventory_2017', dtype={'Salequantity':'float'})\n",
    "df2 = pd.read_excel('./data/reach_data.xlsx', sheet_name='waste-inventory_2018')\n",
    "\n",
    "# Concatenate the two dataframes into one\n",
    "data = pd.concat([df1, df2])\n",
    "\n",
    "data = data.drop(index=data[data['Sale quantity']=='********  '].index)\n",
    "\n",
    "data['Sale quantity'] = data['Sale quantity'].astype('float')\n",
    "data['Date'] = pd.to_datetime(data['Date'])\n",
    "\n",
    "# Constants (customize these based on your needs)\n",
    "lead_time = 7  # Lead time in days\n",
    "service_level = 0.95  # Desired service level (0.95 corresponds to 95%)\n",
    "annual_ordering_cost = 100  # Ordering cost per order\n",
    "annual_holding_cost_per_unit = 0.10  # Holding cost per unit per year\n",
    "\n",
    "# Calculate the service level factor (Z) using the standard normal distribution\n",
    "z = norm.ppf(service_level)\n",
    "\n",
    "# Define a function to calculate the optimal order quantity (EOQ) and reorder point\n",
    "def optimize_inventory(demand, std_demand, lead_time, annual_ordering_cost, annual_holding_cost_per_unit, z):\n",
    "    # Calculate EOQ\n",
    "    eoq = math.sqrt((2 * demand * annual_ordering_cost) / annual_holding_cost_per_unit)\n",
    "\n",
    "    # Calculate lead time demand\n",
    "    lead_time_demand = demand * (lead_time / 365)\n",
    "\n",
    "    # Calculate the standard deviation of demand during the lead time\n",
    "    std_lead_time_demand = std_demand * math.sqrt(lead_time)\n",
    "\n",
    "    # Calculate safety stock\n",
    "    safety_stock = z * std_lead_time_demand\n",
    "\n",
    "    # Calculate the reorder point\n",
    "    reorder_point = lead_time_demand + safety_stock\n",
    "\n",
    "    return eoq, reorder_point\n",
    "\n",
    "# Group the data by store and item\n",
    "grouped_data = data.groupby(['Store Number', 'Item number'])\n",
    "\n",
    "# Create a list to store the results\n",
    "inventory_strategy_list = []\n",
    "\n",
    "# Iterate through the grouped data and calculate the optimal order quantity (EOQ) and reorder point for each store-item combination\n",
    "for (store, item), group in grouped_data:\n",
    "    # Calculate the annual demand and standard deviation of demand\n",
    "    annual_demand = group['Sale quantity'].sum()\n",
    "    std_demand = group['Sale quantity'].std()\n",
    "\n",
    "    # Calculate the optimal order quantity (EOQ) and reorder point\n",
    "    eoq, reorder_point = optimize_inventory(annual_demand, std_demand, lead_time, annual_ordering_cost, annual_holding_cost_per_unit, z)\n",
    "\n",
    "    # Create a DataFrame with the results\n",
    "    result = pd.DataFrame({\n",
    "        'Store Number': [store],\n",
    "        'Item number': [item],\n",
    "        'EOQ': [eoq],\n",
    "        'Reorder Point': [reorder_point]\n",
    "    })\n",
    "\n",
    "    # Append the result DataFrame to the inventory_strategy_list\n",
    "    inventory_strategy_list.append(result)\n",
    "\n",
    "# Concatenate the DataFrames in the inventory_strategy_list to create the inventory_strategy DataFrame\n",
    "inventory_strategy = pd.concat(inventory_strategy_list, ignore_index=True)\n",
    "\n",
    "# Save the inventory_strategy DataFrame to a CSV file\n",
    "inventory_strategy.to_csv('inventory_strategy.csv', index=False)\n"
   ]
  },
  {
   "cell_type": "markdown",
   "id": "07c6633f-9621-480b-9dbf-c6bcb6452c48",
   "metadata": {},
   "source": [
    "## Conclusion\n",
    "This project demonstrates the effective application of machine learning techniques and Python to forecast sales and optimize inventory management in a retail context. By combining accurate sales forecasts with efficient inventory management strategies, businesses can achieve improved customer satisfaction and reduced operational costs. This project showcases the practical application of data science skills in a real-world business scenario and highlights the value of data-driven decision-making processes."
   ]
  },
  {
   "cell_type": "code",
   "execution_count": null,
   "id": "7fe67583-2a25-4f0d-bcef-0f1e212602d6",
   "metadata": {},
   "outputs": [],
   "source": []
  }
 ],
 "metadata": {
  "kernelspec": {
   "display_name": "Python 3 (ipykernel)",
   "language": "python",
   "name": "python3"
  },
  "language_info": {
   "codemirror_mode": {
    "name": "ipython",
    "version": 3
   },
   "file_extension": ".py",
   "mimetype": "text/x-python",
   "name": "python",
   "nbconvert_exporter": "python",
   "pygments_lexer": "ipython3",
   "version": "3.10.9"
  },
  "toc-autonumbering": false
 },
 "nbformat": 4,
 "nbformat_minor": 5
}
